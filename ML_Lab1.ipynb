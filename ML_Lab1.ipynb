{
 "cells": [
  {
   "cell_type": "code",
   "execution_count": 11,
   "id": "9552d235",
   "metadata": {},
   "outputs": [
    {
     "name": "stdout",
     "output_type": "stream",
     "text": [
      "Count of pairs with sum 10 is: 2\n"
     ]
    }
   ],
   "source": [
    "from typing import List, Tuple\n",
    "\n",
    "def count_pairs_with_sum(arr: List[int], target_sum: int) -> int:\n",
    "   \n",
    "    pair_count = 0\n",
    "    n = len(arr)\n",
    "    \n",
    "    for i in range(n):\n",
    "        for j in range(i + 1, n):\n",
    "            if arr[i] + arr[j] == target_sum:\n",
    "                pair_count += 1\n",
    "    \n",
    "    return pair_count\n",
    "\n",
    "def main():\n",
    "    example_list = [2, 7, 4, 1, 3, 6]\n",
    "    target_sum = 10\n",
    "    \n",
    "    number_of_pairs = count_pairs_with_sum(example_list, target_sum)\n",
    "    \n",
    "    print(f\"Count of pairs with sum {target_sum} is: {number_of_pairs}\")\n",
    "\n",
    "if __name__ == \"__main__\":\n",
    "    main()\n",
    "\n"
   ]
  },
  {
   "cell_type": "code",
   "execution_count": 13,
   "id": "4dff1d95",
   "metadata": {},
   "outputs": [
    {
     "name": "stdout",
     "output_type": "stream",
     "text": [
      "The range of the example list is: 8\n",
      "Range determination not possible\n"
     ]
    }
   ],
   "source": [
    "from typing import List, Union\n",
    "\n",
    "def calculate_range(numbers: List[int]) -> Union[str, int]:\n",
    "  \n",
    "    \n",
    "    if len(numbers) < 3:\n",
    "        return \"Range determination not possible\"\n",
    "    \n",
    "    \n",
    "    min_value = min(numbers)\n",
    "    max_value = max(numbers)\n",
    "    \n",
    "    range_value = max_value + min_value\n",
    "    \n",
    "    return range_value\n",
    "\n",
    "def main():\n",
    "   \n",
    "    example_list = [5, 3, 8, 1, 0, 4]\n",
    "    range_result = calculate_range(example_list)\n",
    "    print(f\"The range of the example list is: {range_result}\")\n",
    "    \n",
    "    short_list = [5, 3]\n",
    "    result_short = calculate_range(short_list)\n",
    "    print(result_short)\n",
    "\n",
    "if __name__ == \"__main__\":\n",
    "    main()\n"
   ]
  },
  {
   "cell_type": "code",
   "execution_count": 14,
   "id": "25074d35",
   "metadata": {},
   "outputs": [
    {
     "name": "stdout",
     "output_type": "stream",
     "text": [
      "Matrix returned:\n",
      "[1, 2, 3]\n",
      "[4, 5, 6]\n",
      "[7, 8, 9]\n"
     ]
    }
   ],
   "source": [
    "def validate_square_matrix(matrix):\n",
    "   \n",
    "    if not all(len(row) == len(matrix) for row in matrix):\n",
    "        raise ValueError(\"The matrix is not square.\")\n",
    "\n",
    "def validate_positive_integer(value):\n",
    " \n",
    "    if value <= 0:\n",
    "        raise ValueError(\"The integer should be positive.\")\n",
    "\n",
    "def process_matrix(matrix, positive_integer):\n",
    "  \n",
    "    validate_square_matrix(matrix)\n",
    "    validate_positive_integer(positive_integer)\n",
    "    return matrix\n",
    "\n",
    "def main():\n",
    "   \n",
    "    matrix = [\n",
    "        [1, 2, 3],\n",
    "        [4, 5, 6],\n",
    "        [7, 8, 9]\n",
    "    ]\n",
    "    positive_integer = 5\n",
    "\n",
    "   \n",
    "    try:\n",
    "        result = process_matrix(matrix, positive_integer)\n",
    "        print(\"Matrix returned:\")\n",
    "        for row in result:\n",
    "            print(row)\n",
    "    except ValueError as e:\n",
    "        print(f\"Error: {e}\")\n",
    "\n",
    "if __name__ == \"__main__\":\n",
    "    main()\n"
   ]
  },
  {
   "cell_type": "code",
   "execution_count": 16,
   "id": "0cba8124",
   "metadata": {},
   "outputs": [
    {
     "name": "stdout",
     "output_type": "stream",
     "text": [
      "The maximally occurring character is 'p' and occurrence count is 3.\n"
     ]
    }
   ],
   "source": [
    "from collections import Counter\n",
    "\n",
    "def filter_alphabetic_characters(input_string):\n",
    "    \n",
    "    return ''.join(c.lower() for c in input_string if c.isalpha())\n",
    "\n",
    "def count_character_occurrences(filtered_string):\n",
    "\n",
    "    return Counter(filtered_string)\n",
    "\n",
    "def find_max_occurrence(character_count):\n",
    "  \n",
    "    if not character_count:\n",
    "        return None, 0\n",
    "    \n",
    "    max_char = max(character_count, key=character_count.get)\n",
    "    max_count = character_count[max_char]\n",
    "    \n",
    "    return max_char, max_count\n",
    "\n",
    "def count_highest_occurrence(input_string):\n",
    "   \n",
    "    filtered_string = filter_alphabetic_characters(input_string)\n",
    "    character_count = count_character_occurrences(filtered_string)\n",
    "    return find_max_occurrence(character_count)\n",
    "\n",
    "def main():\n",
    "   \n",
    "    input_string = \"hippopotamus\"\n",
    "    \n",
    "    char, count = count_highest_occurrence(input_string)\n",
    "    \n",
    "  \n",
    "    if char:\n",
    "        print(f\"The maximally occurring character is '{char}' and occurrence count is {count}.\")\n",
    "    else:\n",
    "        print(\"No alphabetic characters found in the input string.\")\n",
    "\n",
    "if __name__ == \"__main__\":\n",
    "    main()\n"
   ]
  },
  {
   "cell_type": "code",
   "execution_count": null,
   "id": "9d6d0856",
   "metadata": {},
   "outputs": [],
   "source": []
  }
 ],
 "metadata": {
  "kernelspec": {
   "display_name": "Python 3 (ipykernel)",
   "language": "python",
   "name": "python3"
  },
  "language_info": {
   "codemirror_mode": {
    "name": "ipython",
    "version": 3
   },
   "file_extension": ".py",
   "mimetype": "text/x-python",
   "name": "python",
   "nbconvert_exporter": "python",
   "pygments_lexer": "ipython3",
   "version": "3.11.4"
  }
 },
 "nbformat": 4,
 "nbformat_minor": 5
}
